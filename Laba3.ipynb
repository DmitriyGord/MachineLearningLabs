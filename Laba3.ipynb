{
  "nbformat": 4,
  "nbformat_minor": 0,
  "metadata": {
    "colab": {
      "name": "Laba3.ipynb",
      "provenance": [],
      "collapsed_sections": [],
      "authorship_tag": "ABX9TyOGrXRmSgVBLzzqeyh2k/xw",
      "include_colab_link": true
    },
    "kernelspec": {
      "name": "python3",
      "display_name": "Python 3"
    },
    "language_info": {
      "name": "python"
    },
    "accelerator": "GPU"
  },
  "cells": [
    {
      "cell_type": "markdown",
      "metadata": {
        "id": "view-in-github",
        "colab_type": "text"
      },
      "source": [
        "<a href=\"https://colab.research.google.com/github/DmitriyGord/MachineLearningLabs/blob/main/Laba3.ipynb\" target=\"_parent\"><img src=\"https://colab.research.google.com/assets/colab-badge.svg\" alt=\"Open In Colab\"/></a>"
      ]
    },
    {
      "cell_type": "code",
      "execution_count": null,
      "metadata": {
        "colab": {
          "base_uri": "https://localhost:8080/"
        },
        "id": "IF_LPxMuaQsD",
        "outputId": "8a7ca894-562d-476c-a513-bef6cc7afc0f"
      },
      "outputs": [
        {
          "output_type": "stream",
          "name": "stdout",
          "text": [
            "Drive already mounted at /content/drive; to attempt to forcibly remount, call drive.mount(\"/content/drive\", force_remount=True).\n",
            "<class 'pandas.core.frame.DataFrame'>\n",
            "RangeIndex: 10841 entries, 0 to 10840\n",
            "Data columns (total 13 columns):\n",
            " #   Column          Non-Null Count  Dtype  \n",
            "---  ------          --------------  -----  \n",
            " 0   App             10841 non-null  object \n",
            " 1   Category        10841 non-null  object \n",
            " 2   Rating          9367 non-null   float64\n",
            " 3   Reviews         10841 non-null  object \n",
            " 4   Size            10841 non-null  float64\n",
            " 5   Installs        10841 non-null  object \n",
            " 6   Type            10840 non-null  object \n",
            " 7   Price           10841 non-null  object \n",
            " 8   Content Rating  10840 non-null  object \n",
            " 9   Genres          10841 non-null  object \n",
            " 10  Last Updated    10841 non-null  object \n",
            " 11  Current Ver     10833 non-null  object \n",
            " 12  Android Ver     10838 non-null  object \n",
            "dtypes: float64(2), object(11)\n",
            "memory usage: 1.1+ MB\n"
          ]
        }
      ],
      "source": [
        "import pandas as pd\n",
        "import numpy as np\n",
        "import matplotlib.pyplot as plt\n",
        "import seaborn as sns\n",
        "from sklearn import metrics\n",
        "from sklearn import preprocessing\n",
        "from sklearn.model_selection import train_test_split\n",
        "%matplotlib inline\n",
        "from google.colab import drive\n",
        "drive.mount('/content/drive')\n",
        "\n",
        "data = pd.read_csv('/content/drive/My Drive/Colab Notebooks/playstore-analysis.csv', sep=',')\n",
        "data.info()"
      ]
    },
    {
      "cell_type": "code",
      "source": [
        "data = data.drop(['App', 'Android Ver', 'Current Ver', 'Price', 'Genres'], axis='columns')\n",
        "\n",
        "def replace_cr(cr):\n",
        "  if cr == ('Everyone'):\n",
        "    return 1\n",
        "  return 0\n",
        "\n",
        "data['Content Rating'] = data['Content Rating'].apply(replace_cr)\n",
        "\n",
        "counts = data['Category'].value_counts()\n",
        "nan_count = data['Category'].isnull().sum()\n",
        "\n",
        "def replace_cat(cat):\n",
        "  if pd.isnull(cat):\n",
        "    return nan_count\n",
        "  return counts[cat]\n",
        "\n",
        "data['Category'] = data['Category'].apply(replace_cat) \n",
        "\n",
        "def delplus(inst):\n",
        "  return inst[:-1]\n",
        "\n",
        "data['Installs'] = data['Installs'].apply(delplus) \n",
        "\n",
        "def strtoint(string):\n",
        "  if ',' in string:\n",
        "    return int(string.replace(',',''))\n",
        "  return string\n",
        "\n",
        "data['Installs'] = data['Installs'].apply(strtoint)\n",
        "data = data.drop([10472])\n",
        "data['Installs'] = pd.to_numeric(data['Installs'])\n",
        "def textsplit(text):\n",
        "  return text.split(',')[-1]\n",
        "  \n",
        "data['Last Updated'] = data['Last Updated'].apply(textsplit)\n",
        "data['Last Updated'] = data['Last Updated'].astype(int)\n",
        "\n",
        "data['Reviews'] = pd.to_numeric(data['Reviews'])\n",
        "def f4free(free):\n",
        "  if free == ('Free'):\n",
        "    return 1\n",
        "  return 0\n",
        "  \n",
        "data['Type'] = data['Type'].apply(f4free)\n",
        "\n",
        "def binary_nans(value):\n",
        "  if pd.isnull(value):\n",
        "    return 2.5\n",
        "  return value\n",
        "\n",
        "for col in ['Rating']:\n",
        "  data[col] = data [col].apply(binary_nans)\n",
        "\n",
        "data = data.drop([9148])"
      ],
      "metadata": {
        "id": "xUDmuX60auVX"
      },
      "execution_count": null,
      "outputs": []
    },
    {
      "cell_type": "code",
      "source": [
        "data.info()"
      ],
      "metadata": {
        "colab": {
          "base_uri": "https://localhost:8080/"
        },
        "id": "i6M7VptXaxPp",
        "outputId": "8141adb9-62a5-4b44-fe91-0151b1794caf"
      },
      "execution_count": null,
      "outputs": [
        {
          "output_type": "stream",
          "name": "stdout",
          "text": [
            "<class 'pandas.core.frame.DataFrame'>\n",
            "Int64Index: 10839 entries, 0 to 10840\n",
            "Data columns (total 8 columns):\n",
            " #   Column          Non-Null Count  Dtype  \n",
            "---  ------          --------------  -----  \n",
            " 0   Category        10839 non-null  int64  \n",
            " 1   Rating          10839 non-null  float64\n",
            " 2   Reviews         10839 non-null  int64  \n",
            " 3   Size            10839 non-null  float64\n",
            " 4   Installs        10839 non-null  float64\n",
            " 5   Type            10839 non-null  int64  \n",
            " 6   Content Rating  10839 non-null  int64  \n",
            " 7   Last Updated    10839 non-null  int64  \n",
            "dtypes: float64(3), int64(5)\n",
            "memory usage: 762.1 KB\n"
          ]
        }
      ]
    },
    {
      "cell_type": "code",
      "source": [
        "X = data[data.columns.difference(['Type'])]\n",
        "y = data['Type']"
      ],
      "metadata": {
        "id": "-E70SPQPbtCH"
      },
      "execution_count": null,
      "outputs": []
    },
    {
      "cell_type": "code",
      "source": [
        "from sklearn.linear_model import LogisticRegression\n",
        "model = LogisticRegression(\n",
        "    # метод для поиска решения. Для небольших датасетов лучше подходит liblinear, sag и saga -- для больших.\n",
        "    # Варианты: newton-cg, lbfgs, liblinear, sag, saga\n",
        "    solver='liblinear',\n",
        "    # норма для регуляризации. Варианты: l2, l1.\n",
        "    penalty='l1',\n",
        "    # параметр регуляризации. Чем меньше, тем сильнее регуляризация. Положительный.\n",
        "    C=1e4,\n",
        "    # параметр для остановки поиска решения.(прекращается процесс обучения когда приближаемся к локальному минимому равному переменной tol)\n",
        "    tol=1e-4,\n",
        "    # Так как распознается 2 класса. \n",
        "    multi_class='ovr'\n",
        "    )"
      ],
      "metadata": {
        "id": "Y8ZSWEkHccEK"
      },
      "execution_count": null,
      "outputs": []
    },
    {
      "cell_type": "code",
      "source": [
        "model.fit(X, y)"
      ],
      "metadata": {
        "colab": {
          "base_uri": "https://localhost:8080/"
        },
        "id": "0Ux4LO9Ncgim",
        "outputId": "5a8ee19f-29c7-4438-c05c-f692d0fb89de"
      },
      "execution_count": null,
      "outputs": [
        {
          "output_type": "stream",
          "name": "stderr",
          "text": [
            "/usr/local/lib/python3.7/dist-packages/sklearn/svm/_base.py:1208: ConvergenceWarning: Liblinear failed to converge, increase the number of iterations.\n",
            "  ConvergenceWarning,\n"
          ]
        },
        {
          "output_type": "execute_result",
          "data": {
            "text/plain": [
              "LogisticRegression(C=10000.0, multi_class='ovr', penalty='l1',\n",
              "                   solver='liblinear')"
            ]
          },
          "metadata": {},
          "execution_count": 15
        }
      ]
    },
    {
      "cell_type": "code",
      "source": [
        "pred_prob = model.predict_proba(X)"
      ],
      "metadata": {
        "id": "Ncs9u3k9dHqa"
      },
      "execution_count": null,
      "outputs": []
    },
    {
      "cell_type": "code",
      "source": [
        "preds = pred_prob[:,1]\n",
        "fpr, tpr, threshold = metrics.roc_curve(y, preds)\n",
        "roc_auc = metrics.auc(fpr, tpr)"
      ],
      "metadata": {
        "id": "oxzfsG9QdOKp"
      },
      "execution_count": null,
      "outputs": []
    },
    {
      "cell_type": "code",
      "source": [
        "import matplotlib.pyplot as plt\n",
        "plt.title('Receiver Operating Characteristic')\n",
        "plt.plot(fpr, tpr, 'b', label = 'AUC = %0.2f' % roc_auc)\n",
        "plt.legend(loc = 'lower right')\n",
        "plt.plot([0, 1], [0, 1],'r--')\n",
        "plt.xlim([0, 1])\n",
        "plt.ylim([0, 1])\n",
        "plt.ylabel('True Positive Rate')\n",
        "plt.xlabel('False Positive Rate')\n",
        "plt.show()"
      ],
      "metadata": {
        "colab": {
          "base_uri": "https://localhost:8080/",
          "height": 295
        },
        "id": "npTIvbF_dQ0P",
        "outputId": "2bfc4c9b-62b4-4c12-fb17-7be64802cced"
      },
      "execution_count": null,
      "outputs": [
        {
          "output_type": "display_data",
          "data": {
            "image/png": "[encoded data removed]",
            "text/plain": [
              "<Figure size 432x288 with 1 Axes>"
            ]
          },
          "metadata": {
            "needs_background": "light"
          }
        }
      ]
    },
    {
      "cell_type": "markdown",
      "source": [
        "Результаты применения L1 и L2 \n",
        "\n",
        "penalty='l2' C=1 AUC = 0.74\n",
        "\n",
        "penalty='l2' C=1e2 AUC = 0.74\n",
        "\n",
        "penalty='l2' C=1e4 AUC = 0.74\n",
        "\n",
        "penalty='l1' C=1 AUC = 0.72\n",
        "\n",
        "penalty='l1' C=1e2 AUC = 0.78\n",
        "\n",
        "penalty='l1' C=1e4 AUC = 0.78\n",
        "\n",
        "переменные tol и multi_class не менялись"
      ],
      "metadata": {
        "id": "IHMTOS8IdXoN"
      }
    },
    {
      "cell_type": "code",
      "source": [
        "model.coef_"
      ],
      "metadata": {
        "colab": {
          "base_uri": "https://localhost:8080/"
        },
        "id": "Ac3fcwpfd69t",
        "outputId": "aff7fc2a-685b-4471-de85-d68eb23fa389"
      },
      "execution_count": null,
      "outputs": [
        {
          "output_type": "execute_result",
          "data": {
            "text/plain": [
              "array([[-2.67882474e-04, -1.83222894e-01,  7.05215025e-07,\n",
              "         2.47512910e-04, -3.14531367e-02, -1.54654290e-06,\n",
              "        -2.85440908e-06]])"
            ]
          },
          "metadata": {},
          "execution_count": 19
        }
      ]
    },
    {
      "cell_type": "code",
      "source": [
        "len(model.coef_[0])"
      ],
      "metadata": {
        "colab": {
          "base_uri": "https://localhost:8080/"
        },
        "id": "7Ro-88gMgaQ1",
        "outputId": "2fea54aa-5b2a-4e01-e1b2-0fce4d32a5fd"
      },
      "execution_count": null,
      "outputs": [
        {
          "output_type": "execute_result",
          "data": {
            "text/plain": [
              "7"
            ]
          },
          "metadata": {},
          "execution_count": 20
        }
      ]
    },
    {
      "cell_type": "code",
      "source": [
        "# для наглядности сделаем все в словаре, тк после удаления можем потерять нумерацию столбцов\n",
        "col = [i for i in range(7)]\n",
        "listValues = model.coef_[0]\n",
        "myDict = {col[i]:listValues[i] for i in range(0, len(col), 1)} \n",
        "for key in myDict:\n",
        "    print(key, '->', myDict[key])"
      ],
      "metadata": {
        "colab": {
          "base_uri": "https://localhost:8080/"
        },
        "id": "UpxPnpvBgrXP",
        "outputId": "8cab7267-45cb-4ef4-f929-4efd436d6f37"
      },
      "execution_count": null,
      "outputs": [
        {
          "output_type": "stream",
          "name": "stdout",
          "text": [
            "0 -> -0.0002678824738463644\n",
            "1 -> -0.18322289387799148\n",
            "2 -> 7.052150251047534e-07\n",
            "3 -> 0.00024751291047726826\n",
            "4 -> -0.03145313673741645\n",
            "5 -> -1.5465428969460972e-06\n",
            "6 -> -2.8544090791295195e-06\n"
          ]
        }
      ]
    },
    {
      "cell_type": "code",
      "source": [
        "# если значения признака меньше 0.01 удалим его (считаем их близкими к нулю)\n",
        "key_new = list()\n",
        "for key in myDict:\n",
        "    if myDict[key] < 0.0000001:\n",
        "        key_new.append(key)\n",
        "print(key_new) # номера столбцов которые мы будем удалять для метода ближайших соседей"
      ],
      "metadata": {
        "colab": {
          "base_uri": "https://localhost:8080/"
        },
        "id": "-xfQBUCogsNO",
        "outputId": "90f8dc96-c1e7-4036-f59c-fcbda90a852f"
      },
      "execution_count": null,
      "outputs": [
        {
          "output_type": "stream",
          "name": "stdout",
          "text": [
            "[0, 1, 4, 5, 6]\n"
          ]
        }
      ]
    },
    {
      "cell_type": "code",
      "source": [
        "c = data.columns"
      ],
      "metadata": {
        "id": "p9JNvLWOhUWr"
      },
      "execution_count": null,
      "outputs": []
    },
    {
      "cell_type": "code",
      "source": [
        "for i in key_new:\n",
        "     data.drop([c[i]], axis = 1, inplace = True)"
      ],
      "metadata": {
        "id": "C-DzZ4v-hjh4"
      },
      "execution_count": null,
      "outputs": []
    },
    {
      "cell_type": "code",
      "source": [
        "data.info()"
      ],
      "metadata": {
        "colab": {
          "base_uri": "https://localhost:8080/"
        },
        "id": "mz6Dn6hbhs-K",
        "outputId": "a75e8b01-f91b-4702-a513-94b8f3f13cd0"
      },
      "execution_count": null,
      "outputs": [
        {
          "output_type": "stream",
          "name": "stdout",
          "text": [
            "<class 'pandas.core.frame.DataFrame'>\n",
            "Int64Index: 10839 entries, 0 to 10840\n",
            "Data columns (total 3 columns):\n",
            " #   Column        Non-Null Count  Dtype  \n",
            "---  ------        --------------  -----  \n",
            " 0   Reviews       10839 non-null  int64  \n",
            " 1   Size          10839 non-null  float64\n",
            " 2   Last Updated  10839 non-null  int64  \n",
            "dtypes: float64(1), int64(2)\n",
            "memory usage: 338.7 KB\n"
          ]
        }
      ]
    },
    {
      "cell_type": "code",
      "source": [
        "X_train, X_test, y_train, y_test = train_test_split(X, y)"
      ],
      "metadata": {
        "id": "ewE7p-RThtjR"
      },
      "execution_count": null,
      "outputs": []
    },
    {
      "cell_type": "code",
      "source": [
        "from sklearn.neighbors import KNeighborsClassifier\n",
        "\n",
        "# создадим наш классификатор\n",
        "clf = KNeighborsClassifier(n_neighbors=3)\n",
        "# обучим классификатор на тренировочной выборке\n",
        "clf.fit(X_train, y_train)\n",
        "# подсчитаем долю верных ответов алгоритма на тестовой выборке.\n",
        "clf.score(X_test, y_test)"
      ],
      "metadata": {
        "colab": {
          "base_uri": "https://localhost:8080/"
        },
        "id": "vzSYBSuwiumx",
        "outputId": "765a2d54-e4bb-4bf1-fa49-08272fb1e8f5"
      },
      "execution_count": null,
      "outputs": [
        {
          "output_type": "execute_result",
          "data": {
            "text/plain": [
              "0.9195571955719557"
            ]
          },
          "metadata": {},
          "execution_count": 42
        }
      ]
    }
  ]
}